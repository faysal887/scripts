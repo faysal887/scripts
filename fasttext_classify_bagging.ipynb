{
 "cells": [
  {
   "cell_type": "code",
   "execution_count": 4,
   "metadata": {},
   "outputs": [
    {
     "data": {
      "text/html": [
       "<style>.container { width:80% !important; }</style>"
      ],
      "text/plain": [
       "<IPython.core.display.HTML object>"
      ]
     },
     "metadata": {},
     "output_type": "display_data"
    }
   ],
   "source": [
    "# to prevent to restart kernel when any changes are made to any imported file\n",
    "%matplotlib inline\n",
    "%reload_ext autoreload\n",
    "%autoreload 2\n",
    "\n",
    "# to import any file from some other directory\n",
    "\n",
    "# to stop printing warnings\n",
    "import warnings\n",
    "warnings.filterwarnings('ignore')\n",
    "def warn(*args, **kwargs):\n",
    "    pass\n",
    "warnings.warn = warn\n",
    "    \n",
    "import pandas as pd\n",
    "import numpy as np\n",
    "pd.set_option('display.max_columns', 100)\n",
    "pd.set_option('display.max_rows', 20000)\n",
    "pd.set_option('display.max_colwidth', -1)\n",
    "\n",
    "# to increase cells width\n",
    "from IPython.core.display import display, HTML\n",
    "display(HTML(\"<style>.container { width:80% !important; }</style>\"))\n",
    "\n",
    "# to enable collapsible Headings and Functions\n",
    "# !pip install jupyter_contrib_nbextensions\n",
    "# !jupyter contrib nbextension install --user\n",
    "# !jupyter nbextensions_configurator enable --user\n",
    "# !jupyter nbextension enable codefolding/main\n",
    "# search collapsible to enable\n",
    "\n",
    "# enable dark theme\n",
    "# !pip install jupyterthemes\n",
    "# !jt -t monokai\n",
    "\n",
    "# monokai\n",
    "# solarizedd\n",
    "# !jt -r\n",
    "import numpy as np\n",
    "import pandas as pd\n",
    "import sys, os\n",
    "from datetime import datetime, timedelta\n",
    "import requests\n",
    "import json\n",
    "import timeit\n",
    "from datetime import datetime\n",
    "import os.path, time\n",
    "from datetime import datetime, timedelta\n",
    "from threading import Timer\n",
    "import pdb, random\n",
    "\n",
    "from sklearn.ensemble import RandomForestClassifier\n",
    "from sklearn.feature_extraction.text import TfidfVectorizer\n",
    "from sklearn.metrics import classification_report\n",
    "from sklearn.metrics import confusion_matrix\n",
    "import fasttext\n",
    "import string\n",
    "from scipy.stats import hmean\n",
    "from sklearn.model_selection import TimeSeriesSplit\n",
    "from random import seed\n",
    "from random import random\n",
    "from random import randrange\n",
    "from sklearn.model_selection import train_test_split"
   ]
  },
  {
   "cell_type": "code",
   "execution_count": 5,
   "metadata": {},
   "outputs": [
    {
     "name": "stdout",
     "output_type": "stream",
     "text": [
      "/home/cloud_user/faisal/experiments/100_day_ml\r\n"
     ]
    }
   ],
   "source": [
    "!pwd\n",
    "\n",
    "PATH=\"/home/cloud_user/faisal/experiments/tweets_sentiments/\""
   ]
  },
  {
   "cell_type": "code",
   "execution_count": 6,
   "metadata": {},
   "outputs": [
    {
     "name": "stdout",
     "output_type": "stream",
     "text": [
      "Tweets.csv\r\n"
     ]
    }
   ],
   "source": [
    "!ls {PATH}"
   ]
  },
  {
   "cell_type": "markdown",
   "metadata": {},
   "source": [
    "# Get Data"
   ]
  },
  {
   "cell_type": "code",
   "execution_count": 7,
   "metadata": {},
   "outputs": [
    {
     "name": "stdout",
     "output_type": "stream",
     "text": [
      "(14640, 15)\n"
     ]
    },
    {
     "data": {
      "text/html": [
       "<div>\n",
       "<style scoped>\n",
       "    .dataframe tbody tr th:only-of-type {\n",
       "        vertical-align: middle;\n",
       "    }\n",
       "\n",
       "    .dataframe tbody tr th {\n",
       "        vertical-align: top;\n",
       "    }\n",
       "\n",
       "    .dataframe thead th {\n",
       "        text-align: right;\n",
       "    }\n",
       "</style>\n",
       "<table border=\"1\" class=\"dataframe\">\n",
       "  <thead>\n",
       "    <tr style=\"text-align: right;\">\n",
       "      <th></th>\n",
       "      <th>tweet_id</th>\n",
       "      <th>airline_sentiment</th>\n",
       "      <th>airline_sentiment_confidence</th>\n",
       "      <th>negativereason</th>\n",
       "      <th>negativereason_confidence</th>\n",
       "      <th>airline</th>\n",
       "      <th>airline_sentiment_gold</th>\n",
       "      <th>name</th>\n",
       "      <th>negativereason_gold</th>\n",
       "      <th>retweet_count</th>\n",
       "      <th>text</th>\n",
       "      <th>tweet_coord</th>\n",
       "      <th>tweet_created</th>\n",
       "      <th>tweet_location</th>\n",
       "      <th>user_timezone</th>\n",
       "    </tr>\n",
       "  </thead>\n",
       "  <tbody>\n",
       "    <tr>\n",
       "      <th>0</th>\n",
       "      <td>570306133677760513</td>\n",
       "      <td>neutral</td>\n",
       "      <td>1.0000</td>\n",
       "      <td>NaN</td>\n",
       "      <td>NaN</td>\n",
       "      <td>Virgin America</td>\n",
       "      <td>NaN</td>\n",
       "      <td>cairdin</td>\n",
       "      <td>NaN</td>\n",
       "      <td>0</td>\n",
       "      <td>@VirginAmerica What @dhepburn said.</td>\n",
       "      <td>NaN</td>\n",
       "      <td>2015-02-24 11:35:52 -0800</td>\n",
       "      <td>NaN</td>\n",
       "      <td>Eastern Time (US &amp; Canada)</td>\n",
       "    </tr>\n",
       "    <tr>\n",
       "      <th>1</th>\n",
       "      <td>570301130888122368</td>\n",
       "      <td>positive</td>\n",
       "      <td>0.3486</td>\n",
       "      <td>NaN</td>\n",
       "      <td>0.0</td>\n",
       "      <td>Virgin America</td>\n",
       "      <td>NaN</td>\n",
       "      <td>jnardino</td>\n",
       "      <td>NaN</td>\n",
       "      <td>0</td>\n",
       "      <td>@VirginAmerica plus you've added commercials to the experience... tacky.</td>\n",
       "      <td>NaN</td>\n",
       "      <td>2015-02-24 11:15:59 -0800</td>\n",
       "      <td>NaN</td>\n",
       "      <td>Pacific Time (US &amp; Canada)</td>\n",
       "    </tr>\n",
       "  </tbody>\n",
       "</table>\n",
       "</div>"
      ],
      "text/plain": [
       "             tweet_id airline_sentiment  airline_sentiment_confidence  \\\n",
       "0  570306133677760513  neutral           1.0000                         \n",
       "1  570301130888122368  positive          0.3486                         \n",
       "\n",
       "  negativereason  negativereason_confidence         airline  \\\n",
       "0  NaN           NaN                         Virgin America   \n",
       "1  NaN            0.0                        Virgin America   \n",
       "\n",
       "  airline_sentiment_gold      name negativereason_gold  retweet_count  \\\n",
       "0  NaN                    cairdin   NaN                 0               \n",
       "1  NaN                    jnardino  NaN                 0               \n",
       "\n",
       "                                                                       text  \\\n",
       "0  @VirginAmerica What @dhepburn said.                                        \n",
       "1  @VirginAmerica plus you've added commercials to the experience... tacky.   \n",
       "\n",
       "  tweet_coord              tweet_created tweet_location  \\\n",
       "0  NaN         2015-02-24 11:35:52 -0800  NaN             \n",
       "1  NaN         2015-02-24 11:15:59 -0800  NaN             \n",
       "\n",
       "                user_timezone  \n",
       "0  Eastern Time (US & Canada)  \n",
       "1  Pacific Time (US & Canada)  "
      ]
     },
     "execution_count": 7,
     "metadata": {},
     "output_type": "execute_result"
    }
   ],
   "source": [
    "data=pd.read_csv(f\"{PATH}Tweets.csv\")\n",
    "print(data.shape)\n",
    "\n",
    "data.head(2)"
   ]
  },
  {
   "cell_type": "code",
   "execution_count": 8,
   "metadata": {},
   "outputs": [
    {
     "data": {
      "text/plain": [
       "(14640, 15)"
      ]
     },
     "execution_count": 8,
     "metadata": {},
     "output_type": "execute_result"
    }
   ],
   "source": [
    "df=data.reset_index(drop=True).copy()\n",
    "df.tweet_created=pd.to_datetime(df.tweet_created)\n",
    "df=df.rename(columns={\"airline_sentiment\": \"target\", \"tweet_created\": \"date\"})\n",
    "\n",
    "df.shape"
   ]
  },
  {
   "cell_type": "markdown",
   "metadata": {},
   "source": [
    "# Util Functions"
   ]
  },
  {
   "cell_type": "code",
   "execution_count": 9,
   "metadata": {},
   "outputs": [],
   "source": [
    "def preprocess(mydf, Xcol, ycol):\n",
    "    mydf[Xcol] = mydf[Xcol].apply(lambda x: ((x.encode(\"unicode_escape\").decode(\"utf-8\"))))\n",
    "    mydf[Xcol] = mydf[Xcol].apply(lambda x: x.translate(str.maketrans('','',string.punctuation)))\n",
    "    mydf[Xcol] = mydf[Xcol].str.lower().str.replace('\\n',' ')\n",
    "    mydf[ycol] = mydf[ycol].astype(str)\n",
    "    return mydf"
   ]
  },
  {
   "cell_type": "code",
   "execution_count": 10,
   "metadata": {},
   "outputs": [],
   "source": [
    "def save_file(txts, fname):\n",
    "    f = open(fname,'w')\n",
    "    f.write('\\n'.join(txts))\n",
    "    f.close()\n",
    "    \n",
    "    return True"
   ]
  },
  {
   "cell_type": "code",
   "execution_count": 11,
   "metadata": {},
   "outputs": [],
   "source": [
    "def to_fasttext_syntax(mydf, Xcol, ycol, fasttext_txt):\n",
    "    mydf[fasttext_txt] = '__label__'+mydf[ycol]+' '+mydf[Xcol]\n",
    "    return mydf"
   ]
  },
  {
   "cell_type": "code",
   "execution_count": 12,
   "metadata": {},
   "outputs": [],
   "source": [
    "def split_random(mydf, Xcol, ycol, fasttext_txt):\n",
    "    df=preprocess(mydf, Xcol, ycol)\n",
    "    trn_df, vld_df, ts_df = np.split(df.sample(frac=1), [int(.6*len(df)), int(.8*len(df))])\n",
    "    trn_df, vld_df=to_fasttext_syntax(trn_df, Xcol, ycol, fasttext_txt), to_fasttext_syntax(vld_df, Xcol, ycol, fasttext_txt)\n",
    "    print(\"Train: \", trn_df.shape); print(\"Valid: \", vld_df.shape); print(\"Test: \", ts_df.shape)\n",
    "    return trn_df, vld_df, ts_df\n",
    "\n",
    "\n"
   ]
  },
  {
   "cell_type": "code",
   "execution_count": 13,
   "metadata": {},
   "outputs": [],
   "source": [
    "def split_dt(mydf, Xcol, ycol, fasttext_txt, trn_split, vld_split=None):\n",
    "    df=preprocess(mydf, Xcol, ycol)\n",
    "    \n",
    "    if vld_split:\n",
    "        trn_df = df.loc[df.date<trn_split]\n",
    "        vld_df = df.loc[(df.date>=trn_split) & (df.date<=vld_split)]\n",
    "        ts_df  = df.loc[df.date>vld_split]\n",
    "        trn_df, vld_df=to_fasttext_syntax(trn_df, Xcol, ycol, fasttext_txt), to_fasttext_syntax(vld_df, Xcol, ycol, fasttext_txt)\n",
    "        print(\"Train: \", trn_df.shape); print(\"Valid: \", vld_df.shape); print(\"Test: \", ts_df.shape)\n",
    "        return trn_df, vld_df, ts_df\n",
    "    else:\n",
    "        trn_df = df.loc[df.date<trn_split]\n",
    "        vld_df = df.loc[(df.date>=trn_split)]\n",
    "        trn_df=to_fasttext_syntax(trn_df, Xcol, ycol, fasttext_txt)\n",
    "        print(\"Train: \", trn_df.shape); print(\"Valid: \", vld_df.shape)\n",
    "        return trn_df, vld_df\n",
    "\n",
    "\n"
   ]
  },
  {
   "cell_type": "code",
   "execution_count": 14,
   "metadata": {},
   "outputs": [],
   "source": [
    "def get_classification_report(y_true, y_pred):\n",
    "    report=classification_report(y_true, y_pred, output_dict=True)\n",
    "    report=pd.DataFrame(report).T.round(2)\n",
    "    report.loc[\"harmonic avg\"] = report.iloc[:-3, :].apply(lambda x: round(hmean(x), 2), axis=0)\n",
    "    return report\n"
   ]
  },
  {
   "cell_type": "code",
   "execution_count": 15,
   "metadata": {},
   "outputs": [],
   "source": [
    "def get_results(test_df, classifier, Xcol, ycol):\n",
    "    y_pred=[]\n",
    "    y_true=[]\n",
    "    for txt, lbl in zip(test_df[Xcol], test_df[ycol]):\n",
    "        y_pred.append(classifier.predict([txt])[0][0][0][9:])\n",
    "        y_true.append(lbl)\n",
    "\n",
    "    y_pred = np.array(y_pred, dtype='O')\n",
    "    y_true = np.array(y_true, dtype='O')\n",
    "    conf_mat=confusion_matrix(y_true, y_pred)\n",
    "    cls_rpt=get_classification_report(y_true, y_pred)\n",
    "    print(conf_mat)\n",
    "    print(\"\\n\")\n",
    "    print(cls_rpt)\n",
    "    print(f\"\\n =================== \\n\")\n",
    "    return conf_mat, cls_rpt\n",
    "    "
   ]
  },
  {
   "cell_type": "code",
   "execution_count": 16,
   "metadata": {},
   "outputs": [],
   "source": [
    "def classify_fasttext(trn_df, vld_df, ts_df, fasttext_txt, autotune_label):\n",
    "    results={}\n",
    "    \n",
    "    trn_fn, vld_fn = \"/tmp/df.train\", \"/tmp/df.valid\"\n",
    "    \n",
    "    _, _=save_file(trn_df, trn_fn, fasttext_txt), save_file(vld_df, vld_fn, fasttext_txt)\n",
    "    \n",
    "    classifier1 = fasttext.train_supervised(trn_fn, loss='softmax')\n",
    "    print(\"\\nclassifier1: \")\n",
    "    conf_mat1, cls_rpt1 = get_results(ts_df, classifier1, Xcol, ycol)\n",
    "    results[\"classifier1\"]=(classifier1,conf_mat1, cls_rpt1)\n",
    "    \n",
    "    classifier2 = fasttext.train_supervised(input=trn_fn, autotuneValidationFile=vld_fn, autotuneMetric=f\"f1:__label__{autotune_label}\")\n",
    "    print(\"classifier2: \")\n",
    "    conf_mat2, cls_rpt2 = get_results(ts_df, classifier2, Xcol, ycol)\n",
    "    results[\"classifier2\"]=(classifier2,onf_mat2, cls_rpt2)\n",
    "\n",
    "    classifier3 = fasttext.train_supervised(input=trn_fn, autotuneValidationFile=vld_fn, autotuneDuration=60)\n",
    "    print(\"classifier3: \")\n",
    "    conf_mat3, cls_rpt3 = get_results(ts_df, classifier3, Xcol, ycol)\n",
    "    results[\"classifier3\"]=(classifier3,conf_mat3, cls_rpt3)\n",
    "    \n",
    "    return results\n"
   ]
  },
  {
   "cell_type": "code",
   "execution_count": null,
   "metadata": {},
   "outputs": [],
   "source": []
  },
  {
   "cell_type": "markdown",
   "metadata": {},
   "source": [
    "# Classification"
   ]
  },
  {
   "cell_type": "code",
   "execution_count": 17,
   "metadata": {},
   "outputs": [
    {
     "name": "stdout",
     "output_type": "stream",
     "text": [
      "Train:  (10268, 16)\n",
      "Valid:  (4372, 15)\n"
     ]
    }
   ],
   "source": [
    "Xcol=\"text\"\n",
    "ycol=\"target\"\n",
    "fasttext_txt=\"ft_txt\"\n",
    "\n",
    "# random split\n",
    "# trn_df, vld_df, ts_df=split_random(df, Xcol, ycol, fasttext_txt)\n",
    "\n",
    "# split on date, trn, vld, ts\n",
    "# trn_split=\"2019-08-31\";vld_split=\"2019-10-31\"\n",
    "# trn_df, vld_df, ts_df=split_dt(mydf, Xcol, ycol, fasttext_txt, trn_split, vld_split)\n",
    "\n",
    "# split on date, trn, ts\n",
    "split=\"2015-02-23\"\n",
    "trn_df, vld_df=split_dt(df, Xcol, ycol, fasttext_txt, split)\n",
    "\n",
    "\n"
   ]
  },
  {
   "cell_type": "code",
   "execution_count": null,
   "metadata": {},
   "outputs": [],
   "source": [
    "# results = classify_fasttext(trn_df, vld_df, ts_df, fasttext_txt, \"neutral\")"
   ]
  },
  {
   "cell_type": "markdown",
   "metadata": {},
   "source": [
    "## Analysis"
   ]
  },
  {
   "cell_type": "code",
   "execution_count": 18,
   "metadata": {},
   "outputs": [],
   "source": [
    "def subsample(df, Xcol, ycol, ratio=0.60):\n",
    "    X_train, _, _, _ = train_test_split(df[Xcol], df[ycol], test_size=ratio, shuffle=True, stratify=df[ycol], random_state=42)\n",
    "    \n",
    "    return list(X_train)\n",
    "    "
   ]
  },
  {
   "cell_type": "code",
   "execution_count": 19,
   "metadata": {},
   "outputs": [],
   "source": [
    "def train_bag(df, fasttext_txt, ycol):\n",
    "    trn_X_sample=subsample(df, fasttext_txt, ycol)\n",
    "    trn_fn = \"tmpdir/df_sample.train\"\n",
    "    _=save_file(trn_X_sample, trn_fn)\n",
    "    \n",
    "    \n",
    "    classifier = fasttext.train_supervised(trn_fn, loss='softmax')\n",
    "    return classifier\n",
    "    "
   ]
  },
  {
   "cell_type": "code",
   "execution_count": 20,
   "metadata": {},
   "outputs": [],
   "source": [
    "def get_preds_bag(classifier, vld_df, Xcol, ycol, i):\n",
    "    vld_df[f\"pred_{i}\"] = vld_df[Xcol].apply(lambda x: classifier.predict([x])[0][0][0][9:])\n",
    "    vld_df[f\"pred_{i}_correct\"]=np.where(vld_df[f\"pred_{i}\"]==vld_df.target, True, False)\n",
    "    return vld_df\n"
   ]
  },
  {
   "cell_type": "code",
   "execution_count": 21,
   "metadata": {},
   "outputs": [],
   "source": [
    "def get_preds(classifier, vld_df, Xcol, ycol):\n",
    "    vld_df[f\"pred\"] = vld_df[Xcol].apply(lambda x: classifier.predict([x])[0][0][0][9:])\n",
    "    vld_df[f\"pred_correct\"]=np.where(vld_df[f\"pred\"]==vld_df.target, True, False)\n",
    "    return vld_df\n",
    "\n"
   ]
  },
  {
   "cell_type": "markdown",
   "metadata": {},
   "source": [
    "### 1. Timeseries"
   ]
  },
  {
   "cell_type": "code",
   "execution_count": 22,
   "metadata": {},
   "outputs": [],
   "source": [
    "def train_timeseries(df, Xcol, ycol, fasttext_txt, n_splits=5):\n",
    "    df=to_fasttext_syntax(df, Xcol, ycol, fasttext_txt)\n",
    "    \n",
    "    vld_df_merged=pd.DataFrame()\n",
    "\n",
    "    tscv = TimeSeriesSplit(n_splits=n_splits)\n",
    "    for trn_idx, vld_idx in tscv.split(df):\n",
    "\n",
    "        trn_df, vld_df=df.iloc[trn_idx],df.iloc[vld_idx]\n",
    "        classifier=train_bag(trn_df, fasttext_txt, ycol)\n",
    "\n",
    "        vld_df=get_preds(classifier, vld_df, Xcol, ycol)\n",
    "        vld_df_merged=pd.concat([vld_df_merged, vld_df], axis=0)\n",
    "\n",
    "    return vld_df_merged\n"
   ]
  },
  {
   "cell_type": "code",
   "execution_count": 23,
   "metadata": {},
   "outputs": [],
   "source": [
    "def get_analysis(vld_df_merged, cols):\n",
    "    vld_counts=vld_df_merged[cols[0]].value_counts().to_dict()\n",
    "    vld_df_merged[\"val_counts\"]=vld_df_merged[cols[0]].map(vld_counts)\n",
    "\n",
    "    grp=pd.DataFrame(vld_df_merged.groupby(cols).size()).rename(columns={0: \"counts\"})\n",
    "    grp[\"ratios\"]=(grp.counts / grp.index.get_level_values(1)).round(2)\n",
    "    return grp\n",
    "\n"
   ]
  },
  {
   "cell_type": "code",
   "execution_count": 24,
   "metadata": {},
   "outputs": [],
   "source": [
    "ts_result=train_timeseries(df, Xcol, ycol, fasttext_txt, 5)"
   ]
  },
  {
   "cell_type": "code",
   "execution_count": 26,
   "metadata": {},
   "outputs": [
    {
     "data": {
      "text/html": [
       "<div>\n",
       "<style scoped>\n",
       "    .dataframe tbody tr th:only-of-type {\n",
       "        vertical-align: middle;\n",
       "    }\n",
       "\n",
       "    .dataframe tbody tr th {\n",
       "        vertical-align: top;\n",
       "    }\n",
       "\n",
       "    .dataframe thead th {\n",
       "        text-align: right;\n",
       "    }\n",
       "</style>\n",
       "<table border=\"1\" class=\"dataframe\">\n",
       "  <thead>\n",
       "    <tr style=\"text-align: right;\">\n",
       "      <th></th>\n",
       "      <th></th>\n",
       "      <th></th>\n",
       "      <th>counts</th>\n",
       "      <th>ratios</th>\n",
       "    </tr>\n",
       "    <tr>\n",
       "      <th>airline</th>\n",
       "      <th>val_counts</th>\n",
       "      <th>pred_correct</th>\n",
       "      <th></th>\n",
       "      <th></th>\n",
       "    </tr>\n",
       "  </thead>\n",
       "  <tbody>\n",
       "    <tr>\n",
       "      <th rowspan=\"2\" valign=\"top\">American</th>\n",
       "      <th rowspan=\"2\" valign=\"top\">2759</th>\n",
       "      <th>False</th>\n",
       "      <td>549</td>\n",
       "      <td>0.20</td>\n",
       "    </tr>\n",
       "    <tr>\n",
       "      <th>True</th>\n",
       "      <td>2210</td>\n",
       "      <td>0.80</td>\n",
       "    </tr>\n",
       "    <tr>\n",
       "      <th rowspan=\"2\" valign=\"top\">Delta</th>\n",
       "      <th rowspan=\"2\" valign=\"top\">2222</th>\n",
       "      <th>False</th>\n",
       "      <td>851</td>\n",
       "      <td>0.38</td>\n",
       "    </tr>\n",
       "    <tr>\n",
       "      <th>True</th>\n",
       "      <td>1371</td>\n",
       "      <td>0.62</td>\n",
       "    </tr>\n",
       "    <tr>\n",
       "      <th rowspan=\"2\" valign=\"top\">Southwest</th>\n",
       "      <th rowspan=\"2\" valign=\"top\">2420</th>\n",
       "      <th>False</th>\n",
       "      <td>1012</td>\n",
       "      <td>0.42</td>\n",
       "    </tr>\n",
       "    <tr>\n",
       "      <th>True</th>\n",
       "      <td>1408</td>\n",
       "      <td>0.58</td>\n",
       "    </tr>\n",
       "    <tr>\n",
       "      <th rowspan=\"2\" valign=\"top\">US Airways</th>\n",
       "      <th rowspan=\"2\" valign=\"top\">2913</th>\n",
       "      <th>False</th>\n",
       "      <td>516</td>\n",
       "      <td>0.18</td>\n",
       "    </tr>\n",
       "    <tr>\n",
       "      <th>True</th>\n",
       "      <td>2397</td>\n",
       "      <td>0.82</td>\n",
       "    </tr>\n",
       "    <tr>\n",
       "      <th rowspan=\"2\" valign=\"top\">United</th>\n",
       "      <th rowspan=\"2\" valign=\"top\">1886</th>\n",
       "      <th>False</th>\n",
       "      <td>615</td>\n",
       "      <td>0.33</td>\n",
       "    </tr>\n",
       "    <tr>\n",
       "      <th>True</th>\n",
       "      <td>1271</td>\n",
       "      <td>0.67</td>\n",
       "    </tr>\n",
       "  </tbody>\n",
       "</table>\n",
       "</div>"
      ],
      "text/plain": [
       "                                    counts  ratios\n",
       "airline    val_counts pred_correct                \n",
       "American   2759       False         549     0.20  \n",
       "                      True          2210    0.80  \n",
       "Delta      2222       False         851     0.38  \n",
       "                      True          1371    0.62  \n",
       "Southwest  2420       False         1012    0.42  \n",
       "                      True          1408    0.58  \n",
       "US Airways 2913       False         516     0.18  \n",
       "                      True          2397    0.82  \n",
       "United     1886       False         615     0.33  \n",
       "                      True          1271    0.67  "
      ]
     },
     "execution_count": 26,
     "metadata": {},
     "output_type": "execute_result"
    }
   ],
   "source": [
    "grp=get_analysis(ts_result, [\"airline\", \"val_counts\",\"pred_correct\"])\n",
    "grp"
   ]
  },
  {
   "cell_type": "code",
   "execution_count": 29,
   "metadata": {},
   "outputs": [
    {
     "data": {
      "text/plain": [
       "airline\n",
       "Southwest     0.4872\n",
       "Delta         0.4712\n",
       "United        0.4422\n",
       "American      0.3200\n",
       "US Airways    0.2952\n",
       "dtype: float64"
      ]
     },
     "execution_count": 29,
     "metadata": {},
     "output_type": "execute_result"
    }
   ],
   "source": [
    "grp.groupby(level=0).apply(lambda x: hmean(x.ratios)).sort_values(ascending=False)\n"
   ]
  },
  {
   "cell_type": "markdown",
   "metadata": {},
   "source": [
    "### 2. Bagging"
   ]
  },
  {
   "cell_type": "code",
   "execution_count": 30,
   "metadata": {},
   "outputs": [
    {
     "name": "stdout",
     "output_type": "stream",
     "text": [
      "Train:  (10268, 16)\n",
      "Valid:  (4372, 16)\n"
     ]
    }
   ],
   "source": [
    "Xcol=\"text\"\n",
    "ycol=\"target\"\n",
    "fasttext_txt=\"ft_txt\"\n",
    "\n",
    "split=\"2015-02-23\"\n",
    "trn_df, vld_df=split_dt(df, Xcol, ycol, fasttext_txt, split)\n",
    "\n"
   ]
  },
  {
   "cell_type": "code",
   "execution_count": 31,
   "metadata": {},
   "outputs": [],
   "source": [
    "def train_bagging(trn_df, vld_df, Xcol, ycol, fasttext_txt, kfolds=5):\n",
    "\n",
    "    for i in range(1,kfolds+1):\n",
    "        classifier=train_bag(trn_df, fasttext_txt, ycol)\n",
    "        vld_df=get_preds_bag(classifier, vld_df, Xcol, ycol, i)\n",
    "\n",
    "    return vld_df"
   ]
  },
  {
   "cell_type": "code",
   "execution_count": 32,
   "metadata": {},
   "outputs": [],
   "source": [
    "def get_bagging_analysis(vld_df, cols, n_folds):\n",
    "    vld_df[\"n_correct\"]=vld_df[[f\"pred_{i}_correct\" for i in range(1,n_folds+1)]].sum(axis=1)\n",
    "    vld_df[\"n_incorrect\"]=n_folds-vld_df.n_correct\n",
    "    \n",
    "    vld_counts=vld_df[cols[0]].value_counts().to_dict()\n",
    "    vld_df[\"val_counts\"]=vld_df[cols[0]].map(vld_counts)\n",
    "\n",
    "    grp=pd.DataFrame(vld_df[cols].groupby(cols).size()).rename(columns={0:\"counts\"})\n",
    "    grp[\"ratios\"]=(grp.counts / grp.index.get_level_values(1)).round(2)\n",
    "\n",
    "    return grp"
   ]
  },
  {
   "cell_type": "code",
   "execution_count": 33,
   "metadata": {},
   "outputs": [
    {
     "data": {
      "text/html": [
       "<div>\n",
       "<style scoped>\n",
       "    .dataframe tbody tr th:only-of-type {\n",
       "        vertical-align: middle;\n",
       "    }\n",
       "\n",
       "    .dataframe tbody tr th {\n",
       "        vertical-align: top;\n",
       "    }\n",
       "\n",
       "    .dataframe thead th {\n",
       "        text-align: right;\n",
       "    }\n",
       "</style>\n",
       "<table border=\"1\" class=\"dataframe\">\n",
       "  <thead>\n",
       "    <tr style=\"text-align: right;\">\n",
       "      <th></th>\n",
       "      <th></th>\n",
       "      <th></th>\n",
       "      <th>counts</th>\n",
       "      <th>ratios</th>\n",
       "    </tr>\n",
       "    <tr>\n",
       "      <th>airline</th>\n",
       "      <th>val_counts</th>\n",
       "      <th>n_incorrect</th>\n",
       "      <th></th>\n",
       "      <th></th>\n",
       "    </tr>\n",
       "  </thead>\n",
       "  <tbody>\n",
       "    <tr>\n",
       "      <th rowspan=\"6\" valign=\"top\">American</th>\n",
       "      <th rowspan=\"6\" valign=\"top\">1767</th>\n",
       "      <th>0</th>\n",
       "      <td>1360</td>\n",
       "      <td>0.77</td>\n",
       "    </tr>\n",
       "    <tr>\n",
       "      <th>1</th>\n",
       "      <td>12</td>\n",
       "      <td>0.01</td>\n",
       "    </tr>\n",
       "    <tr>\n",
       "      <th>2</th>\n",
       "      <td>7</td>\n",
       "      <td>0.00</td>\n",
       "    </tr>\n",
       "    <tr>\n",
       "      <th>3</th>\n",
       "      <td>3</td>\n",
       "      <td>0.00</td>\n",
       "    </tr>\n",
       "    <tr>\n",
       "      <th>4</th>\n",
       "      <td>7</td>\n",
       "      <td>0.00</td>\n",
       "    </tr>\n",
       "    <tr>\n",
       "      <th>5</th>\n",
       "      <td>378</td>\n",
       "      <td>0.21</td>\n",
       "    </tr>\n",
       "    <tr>\n",
       "      <th rowspan=\"6\" valign=\"top\">Delta</th>\n",
       "      <th rowspan=\"6\" valign=\"top\">504</th>\n",
       "      <th>0</th>\n",
       "      <td>310</td>\n",
       "      <td>0.62</td>\n",
       "    </tr>\n",
       "    <tr>\n",
       "      <th>1</th>\n",
       "      <td>6</td>\n",
       "      <td>0.01</td>\n",
       "    </tr>\n",
       "    <tr>\n",
       "      <th>2</th>\n",
       "      <td>9</td>\n",
       "      <td>0.02</td>\n",
       "    </tr>\n",
       "    <tr>\n",
       "      <th>3</th>\n",
       "      <td>1</td>\n",
       "      <td>0.00</td>\n",
       "    </tr>\n",
       "    <tr>\n",
       "      <th>4</th>\n",
       "      <td>6</td>\n",
       "      <td>0.01</td>\n",
       "    </tr>\n",
       "    <tr>\n",
       "      <th>5</th>\n",
       "      <td>172</td>\n",
       "      <td>0.34</td>\n",
       "    </tr>\n",
       "    <tr>\n",
       "      <th rowspan=\"6\" valign=\"top\">Southwest</th>\n",
       "      <th rowspan=\"6\" valign=\"top\">459</th>\n",
       "      <th>0</th>\n",
       "      <td>312</td>\n",
       "      <td>0.68</td>\n",
       "    </tr>\n",
       "    <tr>\n",
       "      <th>1</th>\n",
       "      <td>5</td>\n",
       "      <td>0.01</td>\n",
       "    </tr>\n",
       "    <tr>\n",
       "      <th>2</th>\n",
       "      <td>3</td>\n",
       "      <td>0.01</td>\n",
       "    </tr>\n",
       "    <tr>\n",
       "      <th>3</th>\n",
       "      <td>1</td>\n",
       "      <td>0.00</td>\n",
       "    </tr>\n",
       "    <tr>\n",
       "      <th>4</th>\n",
       "      <td>1</td>\n",
       "      <td>0.00</td>\n",
       "    </tr>\n",
       "    <tr>\n",
       "      <th>5</th>\n",
       "      <td>137</td>\n",
       "      <td>0.30</td>\n",
       "    </tr>\n",
       "    <tr>\n",
       "      <th rowspan=\"6\" valign=\"top\">US Airways</th>\n",
       "      <th rowspan=\"6\" valign=\"top\">665</th>\n",
       "      <th>0</th>\n",
       "      <td>518</td>\n",
       "      <td>0.78</td>\n",
       "    </tr>\n",
       "    <tr>\n",
       "      <th>1</th>\n",
       "      <td>1</td>\n",
       "      <td>0.00</td>\n",
       "    </tr>\n",
       "    <tr>\n",
       "      <th>2</th>\n",
       "      <td>1</td>\n",
       "      <td>0.00</td>\n",
       "    </tr>\n",
       "    <tr>\n",
       "      <th>3</th>\n",
       "      <td>2</td>\n",
       "      <td>0.00</td>\n",
       "    </tr>\n",
       "    <tr>\n",
       "      <th>4</th>\n",
       "      <td>2</td>\n",
       "      <td>0.00</td>\n",
       "    </tr>\n",
       "    <tr>\n",
       "      <th>5</th>\n",
       "      <td>141</td>\n",
       "      <td>0.21</td>\n",
       "    </tr>\n",
       "    <tr>\n",
       "      <th rowspan=\"6\" valign=\"top\">United</th>\n",
       "      <th rowspan=\"6\" valign=\"top\">857</th>\n",
       "      <th>0</th>\n",
       "      <td>649</td>\n",
       "      <td>0.76</td>\n",
       "    </tr>\n",
       "    <tr>\n",
       "      <th>1</th>\n",
       "      <td>1</td>\n",
       "      <td>0.00</td>\n",
       "    </tr>\n",
       "    <tr>\n",
       "      <th>2</th>\n",
       "      <td>2</td>\n",
       "      <td>0.00</td>\n",
       "    </tr>\n",
       "    <tr>\n",
       "      <th>3</th>\n",
       "      <td>3</td>\n",
       "      <td>0.00</td>\n",
       "    </tr>\n",
       "    <tr>\n",
       "      <th>4</th>\n",
       "      <td>1</td>\n",
       "      <td>0.00</td>\n",
       "    </tr>\n",
       "    <tr>\n",
       "      <th>5</th>\n",
       "      <td>201</td>\n",
       "      <td>0.23</td>\n",
       "    </tr>\n",
       "    <tr>\n",
       "      <th rowspan=\"4\" valign=\"top\">Virgin America</th>\n",
       "      <th rowspan=\"4\" valign=\"top\">120</th>\n",
       "      <th>0</th>\n",
       "      <td>70</td>\n",
       "      <td>0.58</td>\n",
       "    </tr>\n",
       "    <tr>\n",
       "      <th>1</th>\n",
       "      <td>2</td>\n",
       "      <td>0.02</td>\n",
       "    </tr>\n",
       "    <tr>\n",
       "      <th>3</th>\n",
       "      <td>1</td>\n",
       "      <td>0.01</td>\n",
       "    </tr>\n",
       "    <tr>\n",
       "      <th>5</th>\n",
       "      <td>47</td>\n",
       "      <td>0.39</td>\n",
       "    </tr>\n",
       "  </tbody>\n",
       "</table>\n",
       "</div>"
      ],
      "text/plain": [
       "                                       counts  ratios\n",
       "airline        val_counts n_incorrect                \n",
       "American       1767       0            1360    0.77  \n",
       "                          1            12      0.01  \n",
       "                          2            7       0.00  \n",
       "                          3            3       0.00  \n",
       "                          4            7       0.00  \n",
       "                          5            378     0.21  \n",
       "Delta          504        0            310     0.62  \n",
       "                          1            6       0.01  \n",
       "                          2            9       0.02  \n",
       "                          3            1       0.00  \n",
       "                          4            6       0.01  \n",
       "                          5            172     0.34  \n",
       "Southwest      459        0            312     0.68  \n",
       "                          1            5       0.01  \n",
       "                          2            3       0.01  \n",
       "                          3            1       0.00  \n",
       "                          4            1       0.00  \n",
       "                          5            137     0.30  \n",
       "US Airways     665        0            518     0.78  \n",
       "                          1            1       0.00  \n",
       "                          2            1       0.00  \n",
       "                          3            2       0.00  \n",
       "                          4            2       0.00  \n",
       "                          5            141     0.21  \n",
       "United         857        0            649     0.76  \n",
       "                          1            1       0.00  \n",
       "                          2            2       0.00  \n",
       "                          3            3       0.00  \n",
       "                          4            1       0.00  \n",
       "                          5            201     0.23  \n",
       "Virgin America 120        0            70      0.58  \n",
       "                          1            2       0.02  \n",
       "                          3            1       0.01  \n",
       "                          5            47      0.39  "
      ]
     },
     "execution_count": 33,
     "metadata": {},
     "output_type": "execute_result"
    }
   ],
   "source": [
    "kfolds=5\n",
    "bag_results=train_bagging(trn_df, vld_df, Xcol, ycol, fasttext_txt, kfolds)\n",
    "\n",
    "cols=[\"airline\", \"val_counts\", \"n_incorrect\"]\n",
    "grp=get_bagging_analysis(vld_df, cols, kfolds)\n",
    "grp"
   ]
  },
  {
   "cell_type": "code",
   "execution_count": null,
   "metadata": {},
   "outputs": [],
   "source": []
  }
 ],
 "metadata": {
  "kernelspec": {
   "display_name": "Python 3",
   "language": "python",
   "name": "python3"
  },
  "language_info": {
   "codemirror_mode": {
    "name": "ipython",
    "version": 3
   },
   "file_extension": ".py",
   "mimetype": "text/x-python",
   "name": "python",
   "nbconvert_exporter": "python",
   "pygments_lexer": "ipython3",
   "version": "3.6.6"
  }
 },
 "nbformat": 4,
 "nbformat_minor": 4
}
