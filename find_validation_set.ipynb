{
 "cells": [
  {
   "cell_type": "markdown",
   "metadata": {
    "heading_collapsed": true
   },
   "source": [
    "# Imports"
   ]
  },
  {
   "cell_type": "code",
   "execution_count": 4,
   "metadata": {
    "hidden": true
   },
   "outputs": [],
   "source": [
    "%load_ext autoreload\n",
    "%autoreload 2\n",
    "%matplotlib inline"
   ]
  },
  {
   "cell_type": "code",
   "execution_count": 5,
   "metadata": {
    "hidden": true
   },
   "outputs": [
    {
     "data": {
      "text/html": [
       "<style>.container { width:80% !important; }</style>"
      ],
      "text/plain": [
       "<IPython.core.display.HTML object>"
      ]
     },
     "metadata": {},
     "output_type": "display_data"
    }
   ],
   "source": [
    "# to prevent to restart kernel when any changes are made to any imported file\n",
    "%reload_ext autoreload\n",
    "%autoreload 2\n",
    "\n",
    "# to import any file from some other directory\n",
    "\n",
    "# to stop printing warnings\n",
    "import warnings\n",
    "warnings.filterwarnings('ignore')\n",
    "def warn(*args, **kwargs):\n",
    "    pass\n",
    "warnings.warn = warn\n",
    "    \n",
    "import pandas as pd\n",
    "import numpy as np\n",
    "pd.set_option('display.max_columns', 100)\n",
    "pd.set_option('display.max_rows', 20000)\n",
    "pd.set_option('display.max_colwidth', -1)\n",
    "\n",
    "# to increase cells width\n",
    "from IPython.core.display import display, HTML\n",
    "display(HTML(\"<style>.container { width:80% !important; }</style>\"))\n",
    "\n",
    "# to enable collapsible Headings and Functions\n",
    "# !pip install jupyter_contrib_nbextensions\n",
    "# !jupyter contrib nbextension install --user\n",
    "# !jupyter nbextensions_configurator enable --user\n",
    "# !jupyter nbextension enable codefolding/main\n",
    "# search collapsible to enable\n",
    "\n",
    "# enable dark theme\n",
    "# !pip install jupyterthemes\n",
    "# !jt -t monokai\n",
    "\n",
    "# monokai\n",
    "# solarizedd\n",
    "# !jt -r\n",
    "import numpy as np\n",
    "import pandas as pd\n",
    "import sys, os\n",
    "from datetime import datetime, timedelta\n",
    "import requests\n",
    "import json\n",
    "import timeit\n",
    "from datetime import datetime\n",
    "import os.path, time\n",
    "from datetime import datetime, timedelta\n",
    "from threading import Timer\n",
    "import pdb, random\n",
    "from sklearn.base import clone"
   ]
  },
  {
   "cell_type": "code",
   "execution_count": 30,
   "metadata": {
    "hidden": true
   },
   "outputs": [],
   "source": [
    "from sklearn.model_selection import train_test_split\n",
    "from sklearn.ensemble import RandomForestClassifier, RandomForestRegressor\n",
    "from sklearn.feature_extraction.text import TfidfVectorizer\n",
    "from sklearn.metrics import classification_report\n",
    "from sklearn.metrics import confusion_matrix\n",
    "from sklearn.model_selection import GridSearchCV\n",
    "from sklearn.model_selection import RandomizedSearchCV\n",
    "from sklearn import preprocessing\n",
    "from pprint import pprint\n",
    "from fastai_utils import *\n",
    "\n",
    "from pandas_summary import DataFrameSummary\n",
    "from sklearn.ensemble import RandomForestRegressor, RandomForestClassifier\n",
    "from IPython.display import display\n",
    "\n",
    "from sklearn import metrics\n",
    "\n",
    "%matplotlib inline\n",
    "\n",
    "# from fastai.imports import *\n",
    "# from fastai.structured import *\n",
    "# from pandas_summary import DataFrameSummary\n",
    "from sklearn.ensemble import RandomForestRegressor, RandomForestClassifier\n",
    "from IPython.display import display\n",
    "from sklearn import metrics\n",
    "from sklearn.ensemble import forest\n",
    "from pandas_profiling import ProfileReport\n",
    "from sklearn.metrics import confusion_matrix\n",
    "from sklearn.linear_model import LogisticRegression\n",
    "from sklearn.svm import SVR\n",
    "import matplotlib.pyplot as plt\n",
    "import statistics as stats"
   ]
  },
  {
   "cell_type": "code",
   "execution_count": 7,
   "metadata": {
    "hidden": true
   },
   "outputs": [],
   "source": [
    "def split_dt(df, y, trn_split, vld_split=None):\n",
    "    df.rename(columns={\"saleYear\": \"year\", \"saleMonth\": \"month\", \"saleDay\": \"day\"}, inplace=True)\n",
    "    df[\"date\"]=pd.to_datetime(df[[\"year\", \"month\", \"day\"]])\n",
    "    \n",
    "    msk=df.date<trn_split\n",
    "    X_train, y_train = df.drop(columns=[\"date\"], axis=1)[msk],  y[msk]\n",
    "    X_valid, y_valid = df.drop(columns=[\"date\"], axis=1)[~msk], y[~msk]\n",
    "    print(\"Train: \", X_train.shape); print(\"Valid: \", X_valid.shape)\n",
    "    return X_train, y_train, X_valid, y_valid\n",
    "\n",
    "\n"
   ]
  },
  {
   "cell_type": "code",
   "execution_count": 8,
   "metadata": {
    "hidden": true
   },
   "outputs": [],
   "source": [
    "PATH = \"./bulldozers/\""
   ]
  },
  {
   "cell_type": "code",
   "execution_count": 9,
   "metadata": {
    "hidden": true
   },
   "outputs": [
    {
     "name": "stdout",
     "output_type": "stream",
     "text": [
      "Data Dictionary.xlsx  TrainAndValid.7z\t ValidSolution.csv\r\n",
      "Machine_Appendix.csv  TrainAndValid.csv  bluebook-for-bulldozers.zip\r\n",
      "Test.csv\t      TrainAndValid.zip  bulldozers_raw.pkl\r\n",
      "Train.7z\t      Valid.7z\t\t keep_cols.npy\r\n",
      "Train.csv\t      Valid.csv\t\t median_benchmark.csv\r\n",
      "Train.zip\t      Valid.zip\t\t random_forest_benchmark_test.csv\r\n"
     ]
    }
   ],
   "source": [
    "!ls {PATH}"
   ]
  },
  {
   "cell_type": "markdown",
   "metadata": {
    "heading_collapsed": true
   },
   "source": [
    "# Get data"
   ]
  },
  {
   "cell_type": "code",
   "execution_count": 10,
   "metadata": {
    "hidden": true
   },
   "outputs": [
    {
     "data": {
      "text/plain": [
       "(401125, 53)"
      ]
     },
     "execution_count": 10,
     "metadata": {},
     "output_type": "execute_result"
    }
   ],
   "source": [
    "data = pd.read_csv(f'{PATH}Train.csv', low_memory=False, \n",
    "                     parse_dates=[\"saledate\"])\n",
    "data.shape"
   ]
  },
  {
   "cell_type": "code",
   "execution_count": 11,
   "metadata": {
    "hidden": true
   },
   "outputs": [
    {
     "data": {
      "text/plain": [
       "(401125, 53)"
      ]
     },
     "execution_count": 11,
     "metadata": {},
     "output_type": "execute_result"
    }
   ],
   "source": [
    "df=data.copy()\n",
    "df.shape"
   ]
  },
  {
   "cell_type": "markdown",
   "metadata": {
    "heading_collapsed": true
   },
   "source": [
    "# Split"
   ]
  },
  {
   "cell_type": "code",
   "execution_count": 22,
   "metadata": {
    "hidden": true
   },
   "outputs": [
    {
     "data": {
      "text/plain": [
       "(Timestamp('1989-01-17 00:00:00'), Timestamp('2011-12-30 00:00:00'))"
      ]
     },
     "execution_count": 22,
     "metadata": {},
     "output_type": "execute_result"
    }
   ],
   "source": [
    "df.saledate.min(), df.saledate.max()"
   ]
  },
  {
   "cell_type": "markdown",
   "metadata": {
    "hidden": true
   },
   "source": [
    "### Train/Test split"
   ]
  },
  {
   "cell_type": "code",
   "execution_count": 23,
   "metadata": {
    "hidden": true
   },
   "outputs": [
    {
     "data": {
      "text/plain": [
       "((395369, 53), (5754, 53))"
      ]
     },
     "execution_count": 23,
     "metadata": {},
     "output_type": "execute_result"
    }
   ],
   "source": [
    "trainDF=df.loc[df.saledate <= \"2011-10-30\"]\n",
    "testDF =df.loc[df.saledate >= \"2011-11-01\"]\n",
    "\n",
    "trainDF.shape, testDF.shape"
   ]
  },
  {
   "cell_type": "markdown",
   "metadata": {
    "hidden": true
   },
   "source": [
    "### Train/Valid split"
   ]
  },
  {
   "cell_type": "code",
   "execution_count": 24,
   "metadata": {
    "hidden": true
   },
   "outputs": [
    {
     "data": {
      "text/plain": [
       "((390213, 53), (5156, 53))"
      ]
     },
     "execution_count": 24,
     "metadata": {},
     "output_type": "execute_result"
    }
   ],
   "source": [
    "# since train/valid distribution will keep on changing along the experiment\n",
    "\n",
    "train=trainDF.loc[trainDF.saledate  <  \"2011-09-01\"].sort_values([\"saledate\"])\n",
    "valid=trainDF.loc[(trainDF.saledate >= \"2011-09-01\") & (trainDF.saledate < \"2011-11-01\")].sort_values([\"saledate\"])\n",
    "\n",
    "train.shape, valid.shape"
   ]
  },
  {
   "cell_type": "markdown",
   "metadata": {
    "heading_collapsed": true
   },
   "source": [
    "# Preprocessing"
   ]
  },
  {
   "cell_type": "code",
   "execution_count": 25,
   "metadata": {
    "hidden": true
   },
   "outputs": [],
   "source": [
    "def preprocess(train, valid, test):    \n",
    "    add_datepart(train,  'saledate')\n",
    "    add_datepart(valid,  'saledate')\n",
    "    add_datepart(test, 'saledate')\n",
    "    train_cats(train)\n",
    "    train_cats(valid)\n",
    "    train_cats(test)\n",
    "\n",
    "    df_trn, y_trn, nas = proc_df(train, 'SalePrice')\n",
    "    df_vld, y_vld, nas = proc_df(valid, 'SalePrice', na_dict=nas)\n",
    "    df_ts, y_ts,   nas = proc_df(test, 'SalePrice', na_dict=nas)\n",
    "\n",
    "    print(\"TRAIN: \", df_trn.shape, y_trn.shape)\n",
    "    print(\"VALID: \", df_vld.shape, y_vld.shape)\n",
    "    print(\"TEST: \",  df_ts.shape, y_ts.shape)\n",
    "    \n",
    "    return df_trn, y_trn, df_vld, y_vld, df_ts, y_ts, nas"
   ]
  },
  {
   "cell_type": "code",
   "execution_count": 26,
   "metadata": {
    "hidden": true
   },
   "outputs": [
    {
     "name": "stdout",
     "output_type": "stream",
     "text": [
      "TRAIN:  (390213, 66) (390213,)\n",
      "VALID:  (5156, 66) (5156,)\n",
      "TEST:  (5754, 66) (5754,)\n"
     ]
    }
   ],
   "source": [
    "# since testDF will remain same throughout experiment, so we will use the initial name testDF for test data\n",
    "\n",
    "df_trn, y_trn, df_vld, y_vld, df_ts, y_ts, nas=preprocess(train, valid, testDF)\n"
   ]
  },
  {
   "cell_type": "markdown",
   "metadata": {
    "hidden": true
   },
   "source": [
    "### Check Validation Set Size"
   ]
  },
  {
   "cell_type": "markdown",
   "metadata": {
    "hidden": true
   },
   "source": [
    "1. Train 5 models with same params.  \n",
    "2. Get valid score on same valid set  \n",
    "3. Get standard deviation of these 5 numbers  \n",
    "4. If std. dev is small enough then keep on with the valid set, else increase valid set size or or use cross-validation"
   ]
  },
  {
   "cell_type": "code",
   "execution_count": 36,
   "metadata": {
    "hidden": true
   },
   "outputs": [],
   "source": [
    "set_rf_samples(5000)"
   ]
  },
  {
   "cell_type": "code",
   "execution_count": 37,
   "metadata": {
    "hidden": true
   },
   "outputs": [
    {
     "name": "stdout",
     "output_type": "stream",
     "text": [
      "5/5\r"
     ]
    },
    {
     "data": {
      "text/plain": [
       "0.006031572881623163"
      ]
     },
     "execution_count": 37,
     "metadata": {},
     "output_type": "execute_result"
    }
   ],
   "source": [
    "n_iters=5\n",
    "\n",
    "scores=[]\n",
    "for i in range(1,n_iters+1):\n",
    "    print(f\"{i}/{n_iters}\", end=\"\\r\")\n",
    "    rf = RandomForestRegressor(n_jobs=-1).fit(df_trn, y_trn)\n",
    "    scores.append(rf.score(df_vld, y_vld))\n",
    "\n",
    "stats.stdev(scores)"
   ]
  },
  {
   "cell_type": "code",
   "execution_count": null,
   "metadata": {
    "hidden": true
   },
   "outputs": [],
   "source": []
  },
  {
   "cell_type": "markdown",
   "metadata": {
    "heading_collapsed": true
   },
   "source": [
    "# Modelling"
   ]
  },
  {
   "cell_type": "code",
   "execution_count": 29,
   "metadata": {
    "hidden": true
   },
   "outputs": [],
   "source": [
    "all_preds=[]"
   ]
  },
  {
   "cell_type": "code",
   "execution_count": 30,
   "metadata": {
    "hidden": true
   },
   "outputs": [],
   "source": [
    "# _, _, X_sample, y_sample=split_dt(X_train, y_train, \"2011-01-01\")\n"
   ]
  },
  {
   "cell_type": "code",
   "execution_count": 31,
   "metadata": {
    "hidden": true
   },
   "outputs": [],
   "source": [
    "def get_scores(m, xtrn, ytrn, xvld, yvld, xts, yts):\n",
    "    \"\"\"\n",
    "    m: sklearn's model to train\n",
    "    \"\"\"\n",
    "    \n",
    "    m_trn=clone(m)\n",
    "    m_ts=clone(m_trn)\n",
    "\n",
    "    # 1. train on training set\n",
    "    m_trn.fit(xtrn, ytrn)\n",
    "\n",
    "    # 2. get score on valid_set\n",
    "    vld_scr=m_trn.score(xvld, yvld)\n",
    "\n",
    "    # 3.  train on valid+train set\n",
    "    \n",
    "    # 3.1.merged x_train+x_valid \n",
    "    x_merged=pd.concat([xtrn,xvld], axis=0)\n",
    "    \n",
    "    # 3.2.merged y_train+y_valid \n",
    "    y_merged=pd.concat([ytrn,yvld], axis=0)\n",
    "    \n",
    "    # 3.3.train on merged(train+valid) data\n",
    "    m_ts.fit(x_merged, y_merged)\n",
    "    \n",
    "    # 4. get score on test_set\n",
    "    ts_scr=m_ts.score(xts, yts)\n",
    "\n",
    "    return vld_scr, ts_scr"
   ]
  },
  {
   "cell_type": "code",
   "execution_count": 37,
   "metadata": {
    "hidden": true
   },
   "outputs": [],
   "source": [
    "X_sample, y_sample=df_trn.tail(20000), y_trn.tail(20000)"
   ]
  },
  {
   "cell_type": "markdown",
   "metadata": {
    "hidden": true
   },
   "source": [
    "### Logistic Regressionn"
   ]
  },
  {
   "cell_type": "code",
   "execution_count": 35,
   "metadata": {
    "hidden": true
   },
   "outputs": [
    {
     "name": "stdout",
     "output_type": "stream",
     "text": [
      "CPU times: user 898 ms, sys: 580 ms, total: 1.48 s\n",
      "Wall time: 7min 12s\n"
     ]
    }
   ],
   "source": [
    "%%time \n",
    "lgr = LogisticRegression(random_state=0, n_jobs=-1)\n",
    "\n",
    "vld_scr, ts_scr=get_scores(lgr, X_sample, y_sample, df_vld, y_vld, df_ts, y_ts)\n",
    "\n",
    "all_preds.append({\"name\": \"lgr\", \"vld_scr\": vld_scr, \"ts_scr\": ts_scr})"
   ]
  },
  {
   "cell_type": "code",
   "execution_count": 36,
   "metadata": {
    "hidden": true
   },
   "outputs": [
    {
     "data": {
      "text/plain": [
       "[{'name': 'lgr', 'vld_scr': 0.01, 'ts_scr': 0.0},\n",
       " {'name': 'lgr',\n",
       "  'vld_scr': 0.01590380139643134,\n",
       "  'ts_scr': 0.017900590893291622}]"
      ]
     },
     "execution_count": 36,
     "metadata": {},
     "output_type": "execute_result"
    }
   ],
   "source": [
    "all_preds"
   ]
  },
  {
   "cell_type": "markdown",
   "metadata": {
    "hidden": true
   },
   "source": [
    "### SVR"
   ]
  },
  {
   "cell_type": "code",
   "execution_count": 38,
   "metadata": {
    "hidden": true
   },
   "outputs": [
    {
     "name": "stdout",
     "output_type": "stream",
     "text": [
      "CPU times: user 5min 56s, sys: 617 ms, total: 5min 56s\n",
      "Wall time: 5min 59s\n"
     ]
    }
   ],
   "source": [
    "%%time\n",
    "svr = SVR(C=1.0, epsilon=0.2)\n",
    "\n",
    "vld_scr, ts_scr=get_scores(svr, X_sample, y_sample, df_vld, y_vld, df_ts, y_ts)\n",
    "\n",
    "all_preds.append({\"name\": \"svr\", \"vld_scr\": vld_scr, \"ts_scr\": ts_scr})"
   ]
  },
  {
   "cell_type": "code",
   "execution_count": 39,
   "metadata": {
    "hidden": true
   },
   "outputs": [
    {
     "data": {
      "text/plain": [
       "[{'name': 'lgr', 'vld_scr': 0.01, 'ts_scr': 0.0},\n",
       " {'name': 'lgr',\n",
       "  'vld_scr': 0.01590380139643134,\n",
       "  'ts_scr': 0.017900590893291622},\n",
       " {'name': 'svr',\n",
       "  'vld_scr': -0.08851987277121952,\n",
       "  'ts_scr': -0.12250931651635089}]"
      ]
     },
     "execution_count": 39,
     "metadata": {},
     "output_type": "execute_result"
    }
   ],
   "source": [
    "all_preds"
   ]
  },
  {
   "cell_type": "markdown",
   "metadata": {
    "hidden": true
   },
   "source": [
    "### RF "
   ]
  },
  {
   "cell_type": "code",
   "execution_count": 40,
   "metadata": {
    "hidden": true
   },
   "outputs": [
    {
     "name": "stdout",
     "output_type": "stream",
     "text": [
      "CPU times: user 1min 41s, sys: 838 ms, total: 1min 42s\n",
      "Wall time: 29.3 s\n"
     ]
    }
   ],
   "source": [
    "%%time\n",
    "rf = RandomForestRegressor(n_jobs=-1)\n",
    "\n",
    "vld_scr, ts_scr=get_scores(rf, X_sample, y_sample, df_vld, y_vld, df_ts, y_ts)\n",
    "\n",
    "all_preds.append({\"name\": \"rf\", \"vld_scr\": vld_scr, \"ts_scr\": ts_scr})"
   ]
  },
  {
   "cell_type": "code",
   "execution_count": 41,
   "metadata": {
    "hidden": true
   },
   "outputs": [
    {
     "data": {
      "text/plain": [
       "[{'name': 'lgr', 'vld_scr': 0.01, 'ts_scr': 0.0},\n",
       " {'name': 'lgr',\n",
       "  'vld_scr': 0.01590380139643134,\n",
       "  'ts_scr': 0.017900590893291622},\n",
       " {'name': 'svr',\n",
       "  'vld_scr': -0.08851987277121952,\n",
       "  'ts_scr': -0.12250931651635089},\n",
       " {'name': 'rf', 'vld_scr': 0.5267276646441512, 'ts_scr': 0.8212125387320378}]"
      ]
     },
     "execution_count": 41,
     "metadata": {},
     "output_type": "execute_result"
    }
   ],
   "source": [
    "all_preds"
   ]
  },
  {
   "cell_type": "markdown",
   "metadata": {
    "hidden": true
   },
   "source": [
    "## Plot"
   ]
  },
  {
   "cell_type": "code",
   "execution_count": 53,
   "metadata": {
    "hidden": true
   },
   "outputs": [],
   "source": [
    "result_df=pd.DataFrame(all_preds)\n",
    "result_df.sort_values([\"vld_scr\"], inplace=True)\n",
    "result_df.to_pickle(\"/tmp/all_preds.pkl\")\n",
    "\n",
    "\n"
   ]
  },
  {
   "cell_type": "code",
   "execution_count": 60,
   "metadata": {
    "hidden": true
   },
   "outputs": [
    {
     "data": {
      "text/html": [
       "<div>\n",
       "<style scoped>\n",
       "    .dataframe tbody tr th:only-of-type {\n",
       "        vertical-align: middle;\n",
       "    }\n",
       "\n",
       "    .dataframe tbody tr th {\n",
       "        vertical-align: top;\n",
       "    }\n",
       "\n",
       "    .dataframe thead th {\n",
       "        text-align: right;\n",
       "    }\n",
       "</style>\n",
       "<table border=\"1\" class=\"dataframe\">\n",
       "  <thead>\n",
       "    <tr style=\"text-align: right;\">\n",
       "      <th></th>\n",
       "      <th>name</th>\n",
       "      <th>vld_scr</th>\n",
       "      <th>ts_scr</th>\n",
       "    </tr>\n",
       "  </thead>\n",
       "  <tbody>\n",
       "    <tr>\n",
       "      <th>2</th>\n",
       "      <td>svr</td>\n",
       "      <td>-0.088520</td>\n",
       "      <td>-0.122509</td>\n",
       "    </tr>\n",
       "    <tr>\n",
       "      <th>1</th>\n",
       "      <td>lgr</td>\n",
       "      <td>0.015904</td>\n",
       "      <td>0.017901</td>\n",
       "    </tr>\n",
       "    <tr>\n",
       "      <th>3</th>\n",
       "      <td>rf</td>\n",
       "      <td>0.526728</td>\n",
       "      <td>0.821213</td>\n",
       "    </tr>\n",
       "  </tbody>\n",
       "</table>\n",
       "</div>"
      ],
      "text/plain": [
       "  name   vld_scr    ts_scr\n",
       "2  svr -0.088520 -0.122509\n",
       "1  lgr  0.015904  0.017901\n",
       "3  rf   0.526728  0.821213"
      ]
     },
     "execution_count": 60,
     "metadata": {},
     "output_type": "execute_result"
    }
   ],
   "source": [
    "result_df"
   ]
  },
  {
   "cell_type": "code",
   "execution_count": 70,
   "metadata": {
    "hidden": true
   },
   "outputs": [
    {
     "data": {
      "image/png": "[encoded data removed]",
      "text/plain": [
       "<Figure size 576x396 with 1 Axes>"
      ]
     },
     "metadata": {},
     "output_type": "display_data"
    }
   ],
   "source": [
    "x,y,z=result_df.vld_scr.tolist(), result_df.ts_scr.tolist(), result_df.name.tolist()\n",
    "\n",
    "coef = np.polyfit(x,y,1)\n",
    "poly1d_fn = np.poly1d(coef) \n",
    "\n",
    "plt.plot(x, y, 'yo', x, poly1d_fn(x), '--k')\n",
    "plt.xlabel(\"validation score(r^2)\"); plt.ylabel(\"test score(r^2)\")\n",
    "for i, txt in enumerate(z):\n",
    "    plt.annotate(txt, (x[i], y[i]), size=20)\n"
   ]
  },
  {
   "cell_type": "code",
   "execution_count": 71,
   "metadata": {
    "hidden": true
   },
   "outputs": [],
   "source": [
    "# as our valid and test scores are aligned, so our validation set selection is good. This technique is very useful for kaggle\n",
    "# competitions where test scores are kaggle scores after submission."
   ]
  },
  {
   "cell_type": "code",
   "execution_count": null,
   "metadata": {
    "hidden": true
   },
   "outputs": [],
   "source": []
  }
 ],
 "metadata": {
  "kernelspec": {
   "display_name": "Python 3",
   "language": "python",
   "name": "python3"
  },
  "language_info": {
   "codemirror_mode": {
    "name": "ipython",
    "version": 3
   },
   "file_extension": ".py",
   "mimetype": "text/x-python",
   "name": "python",
   "nbconvert_exporter": "python",
   "pygments_lexer": "ipython3",
   "version": "3.6.6"
  }
 },
 "nbformat": 4,
 "nbformat_minor": 4
}
