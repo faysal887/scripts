{
 "cells": [
  {
   "cell_type": "code",
   "execution_count": null,
   "metadata": {},
   "outputs": [],
   "source": [
    "# to prevent to restart kernel when any changes are made to any imported file\n",
    "%reload_ext autoreload\n",
    "%autoreload 2\n",
    "\n",
    "# to import any file from some other directory\n",
    "# sys.path.append(\"/tmp/fastai/old\")\n",
    "\n",
    "# to stop printing warnings\n",
    "import warnings\n",
    "warnings.filterwarnings('ignore')\n",
    "def warn(*args, **kwargs):\n",
    "    pass\n",
    "warnings.warn = warn\n",
    "\n",
    "import json,pdb,string,re\n",
    "import pandas as pd\n",
    "from os import walk\n",
    "from tqdm import tqdm\n",
    "tqdm.pandas()\n",
    "\n",
    "from pathlib import Path\n",
    "\n",
    "pd.set_option('display.max_columns', 100)\n",
    "pd.set_option('display.max_rows', 10000)\n",
    "pd.set_option('display.max_colwidth', -1)"
   ]
  },
  {
   "cell_type": "code",
   "execution_count": null,
   "metadata": {},
   "outputs": [],
   "source": [
    "DIR='../MedcareLLC'\n",
    "\n",
    "catalog_dir=f'{DIR}/catalog'\n",
    "helium_dir=f'{DIR}/he_all'\n",
    "keepa_dir=f'{DIR}/keepa_all'\n",
    "output_dir=f'{DIR}/output'\n",
    "\n",
    "Path(f'{DIR}/output').mkdir(exist_ok=True)"
   ]
  },
  {
   "cell_type": "code",
   "execution_count": null,
   "metadata": {},
   "outputs": [],
   "source": [
    "def read_multiple_files(dir: str, kw: str):\n",
    "    all_filenames = next(walk(f'{dir}'), (None, None, []))[2] \n",
    "    filenames_wanted=[f for f in all_filenames if kw.lower() in f.lower()]\n",
    "    df=pd.DataFrame()\n",
    "    for fn in filenames_wanted:\n",
    "        tmpdf=pd.read_csv(f'{dir}/{fn}') if '.csv' in fn else pd.read_excel(f'{dir}/{fn}')\n",
    "\n",
    "        # tmpdf=pd.read_csv(f'{dir}/{fn}')\n",
    "        df=pd.concat([df, tmpdf])\n",
    "    return df\n",
    "\n",
    "\n",
    "def get_pack_size(row):\n",
    "    size=row.Size.lower().strip()\n",
    "    title=row.Title.lower().strip()\n",
    "\n",
    "    size.translate(str.maketrans('', '', string.punctuation))\n",
    "    title.translate(str.maketrans('', '', string.punctuation))\n",
    "\n",
    "    product_desc=size+' '+title\n",
    "\n",
    "    checks=[\n",
    "        'pack of ([0-9]+)',\n",
    "        '([0-9]+) pack',\n",
    "        '([0-9]+) per pack',\n",
    "        '([0-9]+)pack',\n",
    "        '([0-9]+)-pack',\n",
    "        '([0-9]+) ct pack',\n",
    "        '([0-9]+) count pack',\n",
    "    ]\n",
    "    row['Pack Size']=1 # default value 1\n",
    "    for chk in checks:\n",
    "        sz=re.findall(chk, product_desc)\n",
    "        \n",
    "        if sz: row['Pack Size']=int(max(sz))\n",
    "\n",
    "    return row\n",
    "    "
   ]
  },
  {
   "cell_type": "code",
   "execution_count": null,
   "metadata": {},
   "outputs": [],
   "source": [
    "catalog=read_multiple_files(catalog_dir, 'catalog')\n",
    "print(catalog.shape)\n",
    "\n",
    "catalog.head(1)"
   ]
  },
  {
   "cell_type": "code",
   "execution_count": null,
   "metadata": {},
   "outputs": [],
   "source": [
    "# each_price\n",
    "# upc_code\n",
    "# missing pack size values\n",
    "# check dtype of:\n",
    "    # each_price\n",
    "    # Pack Size\t\n",
    "    # fill missing buy box prices\n",
    "# add check for 'Set of' along with Pack of\n",
    "# missing BuyBox 30 day avg values: create func that gets Product price by priority on Price columns\n",
    "# compare whose new offer count, seller type is better keepa Vs jscout\n",
    "\n",
    "rename_columns_catalog=['Title']\n",
    "rename_dict = dict(zip(rename_columns_catalog, [f'{x}_catalog' for x in rename_columns_catalog]))\n",
    "catalog = catalog.rename(columns=rename_dict)\n",
    "\n",
    "\n",
    "catalog_asin_code = ''\n",
    "catalog_upc_code  = 'UPC'\n",
    "catalog_each_price= 'Base Price'\n",
    "catalog_product_name='Title_catalog'\n",
    "\n",
    "\n",
    "\n",
    "\n",
    "\n",
    "keepa_asin_code='ASIN'\n",
    "keepa_upc_code='Product Codes: UPC'\n",
    "\n",
    "# we give priority to asin column, which is used to merge with keepa_scanned file\n",
    "catalog_id_column=catalog_asin_code if catalog_asin_code else catalog_upc_code\n",
    "keepa_id_column= keepa_asin_code if catalog_asin_code else keepa_upc_code\n",
    "\n",
    "catalog[catalog_id_column]=catalog[catalog_id_column].astype(str)\n",
    "\n",
    "\n",
    "catalog_id_column, keepa_id_column\n"
   ]
  },
  {
   "cell_type": "markdown",
   "metadata": {},
   "source": [
    "# Special Filters"
   ]
  },
  {
   "cell_type": "code",
   "execution_count": null,
   "metadata": {},
   "outputs": [],
   "source": [
    "catalog['Base Price']=catalog['Base Price'].str.replace('$','', regex=False).str.replace(',','', regex=False).astype(float)\n",
    "catalog.head()"
   ]
  },
  {
   "cell_type": "code",
   "execution_count": null,
   "metadata": {},
   "outputs": [],
   "source": [
    "# catalog['Case pack price']=catalog['Case size']*catalog['Base Price']\n",
    "\n",
    "# catalog=catalog[(catalog['Case pack price']<=250.0)&(catalog['Base Price']>=5)&(catalog['Base Price']<=50)]\n",
    "# catalog.shape"
   ]
  },
  {
   "cell_type": "markdown",
   "metadata": {},
   "source": [
    "# 1. Catalog"
   ]
  },
  {
   "cell_type": "code",
   "execution_count": null,
   "metadata": {},
   "outputs": [],
   "source": [
    "print(catalog[catalog_asin_code].isnull().sum()) if catalog_asin_code else print('missing ASIN column in catalog')"
   ]
  },
  {
   "cell_type": "code",
   "execution_count": null,
   "metadata": {},
   "outputs": [],
   "source": [
    "print(catalog[catalog_upc_code].isnull().sum()) if catalog_upc_code else print('missing UPC column in catalog')"
   ]
  },
  {
   "cell_type": "code",
   "execution_count": null,
   "metadata": {},
   "outputs": [],
   "source": [
    "print('Search on keepa using: ', catalog_id_column, catalog[catalog_upc_code].nunique())\n"
   ]
  },
  {
   "cell_type": "code",
   "execution_count": null,
   "metadata": {},
   "outputs": [],
   "source": [
    "# with open ('ids.txt', 'w') as f:\n",
    "#     f.write(list(catalog[catalog_id_column].unique()))\n",
    "\n",
    "print(','.join(list(catalog[catalog_id_column].unique())))"
   ]
  },
  {
   "cell_type": "markdown",
   "metadata": {},
   "source": [
    "# 2. Keepa Scanned"
   ]
  },
  {
   "cell_type": "code",
   "execution_count": null,
   "metadata": {},
   "outputs": [],
   "source": [
    "keepa_cols=['ASIN','URL: Amazon','Amazon: Availability of the Amazon offer', 'Product Codes: UPC', 'Size', 'Title']"
   ]
  },
  {
   "cell_type": "code",
   "execution_count": null,
   "metadata": {},
   "outputs": [],
   "source": [
    "keepa=read_multiple_files(keepa_dir, 'keepa')\n",
    "keepa['Product Codes: UPC']=keepa['Product Codes: UPC'].astype(str)\n",
    "print(keepa.shape)\n",
    "\n",
    "keepa.head(1)\n"
   ]
  },
  {
   "cell_type": "code",
   "execution_count": null,
   "metadata": {},
   "outputs": [],
   "source": [
    "keepa['Product Codes: UPC'].fillna('', inplace=True)\n",
    "keepa['Product Codes: UPC'] = keepa['Product Codes: UPC'].str.split(', ')\n",
    "keepa=keepa.explode('Product Codes: UPC')\n",
    "keepa.shape"
   ]
  },
  {
   "cell_type": "markdown",
   "metadata": {},
   "source": [
    "# 3. Merge (Keepa + Catalog)"
   ]
  },
  {
   "cell_type": "code",
   "execution_count": null,
   "metadata": {},
   "outputs": [],
   "source": [
    "catalog[catalog_id_column].nunique(), keepa[keepa_id_column].nunique()"
   ]
  },
  {
   "cell_type": "code",
   "execution_count": null,
   "metadata": {},
   "outputs": [],
   "source": [
    "keepa_merged=pd.merge(catalog, keepa, how='inner', left_on=catalog_id_column, right_on=keepa_id_column)\n",
    "keepa_merged.drop(keepa_merged.loc[:,keepa_merged.columns.str.contains('Unnamed')].columns.tolist(), axis=1, inplace=True)\n",
    "\n",
    "print(keepa_merged.shape, keepa_merged.ASIN.nunique())\n",
    "\n",
    "keepa_merged.head(1)"
   ]
  },
  {
   "cell_type": "markdown",
   "metadata": {},
   "source": [
    "# 4. Helium"
   ]
  },
  {
   "cell_type": "code",
   "execution_count": null,
   "metadata": {},
   "outputs": [],
   "source": [
    "def get_chunks(asins, chunk_size=350):\n",
    "    chunks=[]\n",
    "    for i in range(0, len(asins), chunk_size):\n",
    "        chunk = asins[i:i+chunk_size]\n",
    "        chunks.append(chunk)\n",
    "        print('|'.join(chunk), '\\n\\n')\n",
    "    # return chunksb"
   ]
  },
  {
   "cell_type": "code",
   "execution_count": null,
   "metadata": {},
   "outputs": [],
   "source": [
    "asins=keepa_merged.ASIN.unique().tolist()\n",
    "print(len(asins))\n",
    "get_chunks(asins, 350)\n"
   ]
  },
  {
   "cell_type": "code",
   "execution_count": null,
   "metadata": {},
   "outputs": [],
   "source": [
    "helium=read_multiple_files(helium_dir, 'helium')\n",
    "helium['Price $']=helium['Price $'].str.replace(',','').astype(float)\n",
    "print(helium.shape)\n",
    "\n",
    "helium.head(1)"
   ]
  },
  {
   "cell_type": "code",
   "execution_count": null,
   "metadata": {},
   "outputs": [],
   "source": [
    "helium['Sales']=helium['Sales'].astype(str).str.replace(',','').astype(float)\n",
    "helium['Revenue']=helium['Revenue'].astype(str).str.replace(',','').astype(float)\n",
    "helium['Review Count']=helium['Review Count'].astype(str).str.replace(',','').astype(float)\n",
    "\n"
   ]
  },
  {
   "cell_type": "code",
   "execution_count": null,
   "metadata": {},
   "outputs": [],
   "source": [
    "print(f'Missing Helium Price-$ values: {round((helium[\"Price $\"].isnull().sum()/helium.shape[0])*100, 2)}%')\n",
    "\n"
   ]
  },
  {
   "cell_type": "markdown",
   "metadata": {},
   "source": [
    "# 5. Merge All [(Keepa+Catalog) + Helium]"
   ]
  },
  {
   "cell_type": "code",
   "execution_count": null,
   "metadata": {},
   "outputs": [],
   "source": [
    "merged=pd.merge(keepa_merged, helium, on='ASIN', how='inner')\n",
    "merged=merged.drop_duplicates(['ASIN'])\n",
    "print(merged.shape)\n",
    "merged.head(1)"
   ]
  },
  {
   "cell_type": "code",
   "execution_count": null,
   "metadata": {},
   "outputs": [],
   "source": [
    "merged['Size']=merged['Size'].astype(str).fillna('1')\n",
    "merged=merged.progress_apply(get_pack_size, axis=1)\n",
    "merged[catalog_each_price]=merged[catalog_each_price].astype(str).str.strip().str.replace('$', '', regex=False).astype(float)\n",
    "merged['Pack Size']=merged['Pack Size'].astype(float)\n"
   ]
  },
  {
   "cell_type": "code",
   "execution_count": null,
   "metadata": {},
   "outputs": [],
   "source": [
    "# filling missing values of helium Price$ with keepa lowest list price\n",
    "merged['Price $']=merged['Price $'].fillna(merged['List Price: Lowest'])\n",
    "print(f'Missing Helium Price-$ values: {round((merged[\"Price $\"].isnull().sum()/merged.shape[0])*100, 2)}%')"
   ]
  },
  {
   "cell_type": "markdown",
   "metadata": {},
   "source": [
    "# 6. Filtering"
   ]
  },
  {
   "cell_type": "markdown",
   "metadata": {},
   "source": [
    "### 6.1. Soft Filter"
   ]
  },
  {
   "cell_type": "code",
   "execution_count": null,
   "metadata": {},
   "outputs": [],
   "source": [
    "merged=merged[(merged['Amazon: Availability of the Amazon offer']=='no Amazon offer exists') & \n",
    "              ( merged['Buy Box'] != 'Amazon' )]\n",
    "merged=merged[(merged['Ratings']>=4.0)]\n",
    "merged=merged[(merged['Review Count']>=20)]\n",
    "merged=merged[(merged['Active Sellers #']>=3)]\n",
    "merged=merged[merged['Size Tier'].isin(['Large Standard-Size', 'Small Standard-Size']) ] # from helium "
   ]
  },
  {
   "cell_type": "markdown",
   "metadata": {},
   "source": [
    "### 6.2. Create Custom Columns"
   ]
  },
  {
   "cell_type": "code",
   "execution_count": null,
   "metadata": {},
   "outputs": [],
   "source": [
    "merged['purchase_price']=merged['Pack Size']*merged[catalog_each_price]\n",
    "merged['net_profit']=merged['Price $'] - merged['purchase_price'] - merged['FBA Fees $']\n",
    "merged['net_profit_%']=(merged['net_profit']/merged['purchase_price'])*100\n",
    "\n",
    "merged['expected_sales']=merged['Sales']/merged['Active Sellers #']\n",
    "merged['Invest_monthly']=merged['purchase_price']*merged['expected_sales']\n",
    "merged['ROI_monthly']=merged['net_profit']*merged['expected_sales']\n",
    "merged['ROI_monthly_%']=(merged['ROI_monthly']/merged['Invest_monthly'])*100\n",
    "\n",
    "final=merged[merged['net_profit_%']>=0]\n",
    "print(final.shape)"
   ]
  },
  {
   "cell_type": "code",
   "execution_count": null,
   "metadata": {},
   "outputs": [],
   "source": [
    "from sys import hash_info\n",
    "\n",
    "profitable=final.sort_values(['net_profit_%'], ascending=False)[[f'{keepa_asin_code}', f'{catalog_product_name}', f'{keepa_upc_code}', 'URL: Amazon', 'Pack Size', f'{catalog_each_price}', 'Price $', 'FBA Fees $', 'net_profit',\t'net_profit_%'\t,'expected_sales',\t'Invest_monthly',\t'ROI_monthly'\t,'ROI_monthly_%']]\n",
    "\n",
    "print(profitable.shape)\n",
    "\n",
    "# B007X6WHVE, B01BH6SYXU, B0018QE4IE, B00HSYJRNM, B00EV5BY3M, B07RD16F1W           ### --usman\n",
    "# ((B08W5DTJQR,Sellers=2), B000LM4EOA, B000GX4AA2, B000FRVA8O, BBox=Amazon/Helium) ### -- faisal\n",
    "\n",
    "# 4 asins jo meri sheet main nhi hash_info\n",
    "# 3: buy box amazon as per helium \n",
    "# 1: seller \n"
   ]
  },
  {
   "cell_type": "code",
   "execution_count": null,
   "metadata": {},
   "outputs": [],
   "source": [
    "profitable[profitable['expected_sales']>=30].shape"
   ]
  },
  {
   "cell_type": "code",
   "execution_count": null,
   "metadata": {},
   "outputs": [],
   "source": [
    "winners=profitable[(profitable['net_profit_%']>=25)&(profitable['expected_sales']>=30)].drop_duplicates(['ASIN'])\n",
    "print(winners.shape)\n",
    "winners"
   ]
  },
  {
   "cell_type": "code",
   "execution_count": null,
   "metadata": {},
   "outputs": [],
   "source": [
    "winners.to_excel(f'{output_dir}/medcare_winners.xlsx')                              \n"
   ]
  },
  {
   "cell_type": "code",
   "execution_count": null,
   "metadata": {},
   "outputs": [],
   "source": []
  }
 ],
 "metadata": {
  "kernelspec": {
   "display_name": "Python 3.9.12 ('base')",
   "language": "python",
   "name": "python3"
  },
  "language_info": {
   "codemirror_mode": {
    "name": "ipython",
    "version": 3
   },
   "file_extension": ".py",
   "mimetype": "text/x-python",
   "name": "python",
   "nbconvert_exporter": "python",
   "pygments_lexer": "ipython3",
   "version": "3.9.12"
  },
  "orig_nbformat": 4,
  "vscode": {
   "interpreter": {
    "hash": "760e8a02d58bef947fb67df29745f4128d863e8829938df1158e073523dddf20"
   }
  }
 },
 "nbformat": 4,
 "nbformat_minor": 2
}
